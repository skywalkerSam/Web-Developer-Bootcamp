{
 "cells": [
  {
   "cell_type": "markdown",
   "metadata": {},
   "source": [
    "# Model - MobileNetV2  (fastest prediction time and moderate accuracy)"
   ]
  },
  {
   "cell_type": "code",
   "execution_count": 1,
   "metadata": {},
   "outputs": [],
   "source": [
    "test_image = \"02.jpg\""
   ]
  },
  {
   "cell_type": "code",
   "execution_count": 2,
   "metadata": {},
   "outputs": [
    {
     "name": "stdout",
     "output_type": "stream",
     "text": [
      "common_iguana  :  21.163561940193176\n",
      "American_alligator  :  20.356807112693787\n",
      "pedestal  :  3.057628311216831\n",
      "triceratops  :  2.9505670070648193\n",
      "African_crocodile  :  1.9242225214838982\n"
     ]
    }
   ],
   "source": [
    "from imageai.Classification import ImageClassification\n",
    "import os\n",
    "\n",
    "execution_path = os.getcwd()\n",
    "\n",
    "prediction = ImageClassification()\n",
    "prediction.setModelTypeAsMobileNetV2()\n",
    "prediction.setModelPath(os.path.join(execution_path, \"mobilenet_v2.h5\"))\n",
    "prediction.loadModel()\n",
    "\n",
    "predictions, probabilities = prediction.classifyImage(os.path.join(execution_path, test_image), result_count=5 )\n",
    "for eachPrediction, eachProbability in zip(predictions, probabilities):\n",
    "    print(eachPrediction , \" : \" , eachProbability)"
   ]
  },
  {
   "cell_type": "markdown",
   "metadata": {},
   "source": [
    "# Model - ResNet50 by Microsoft Research"
   ]
  },
  {
   "cell_type": "code",
   "execution_count": 3,
   "metadata": {},
   "outputs": [
    {
     "name": "stdout",
     "output_type": "stream",
     "text": [
      "American_alligator  :  95.89110016822815\n",
      "frilled_lizard  :  1.1312349699437618\n",
      "triceratops  :  0.756390206515789\n",
      "common_iguana  :  0.6257110740989447\n",
      "African_crocodile  :  0.5014169495552778\n"
     ]
    }
   ],
   "source": [
    "from imageai.Classification import ImageClassification\n",
    "import os\n",
    "\n",
    "execution_path = os.getcwd()\n",
    "\n",
    "prediction = ImageClassification()\n",
    "prediction.setModelTypeAsResNet50()\n",
    "prediction.setModelPath(os.path.join(execution_path, \"resnet50_imagenet_tf.2.0.h5\"))\n",
    "prediction.loadModel()\n",
    "\n",
    "predictions, probabilities = prediction.classifyImage(os.path.join(execution_path, test_image), result_count=5 )\n",
    "for eachPrediction, eachProbability in zip(predictions, probabilities):\n",
    "    print(eachPrediction , \" : \" , eachProbability)"
   ]
  },
  {
   "cell_type": "markdown",
   "metadata": {},
   "source": [
    "# Model - InceptionV3 by Google Brain Team"
   ]
  },
  {
   "cell_type": "code",
   "execution_count": 4,
   "metadata": {},
   "outputs": [
    {
     "name": "stdout",
     "output_type": "stream",
     "text": [
      "common_iguana  :  98.53039383888245\n",
      "American_alligator  :  1.1358248069882393\n",
      "African_elephant  :  0.18830588087439537\n",
      "triceratops  :  0.05712960846722126\n",
      "agama  :  0.01326156925642863\n"
     ]
    }
   ],
   "source": [
    "from imageai.Classification import ImageClassification\n",
    "import os\n",
    "\n",
    "execution_path = os.getcwd()\n",
    "\n",
    "prediction = ImageClassification()\n",
    "prediction.setModelTypeAsInceptionV3()\n",
    "prediction.setModelPath(os.path.join(execution_path, \"inception_v3_weights_tf_dim_ordering_tf_kernels.h5\"))\n",
    "prediction.loadModel()\n",
    "\n",
    "predictions, probabilities = prediction.classifyImage(os.path.join(execution_path, test_image), result_count=5 )\n",
    "for eachPrediction, eachProbability in zip(predictions, probabilities):\n",
    "    print(eachPrediction , \" : \" , eachProbability)"
   ]
  },
  {
   "cell_type": "markdown",
   "metadata": {},
   "source": [
    "# Model - DenseNet121 by Facebook AI Research"
   ]
  },
  {
   "cell_type": "code",
   "execution_count": 5,
   "metadata": {},
   "outputs": [
    {
     "name": "stdout",
     "output_type": "stream",
     "text": [
      "triceratops  :  51.258933544158936\n",
      "African_crocodile  :  19.500744342803955\n",
      "common_iguana  :  13.905803859233856\n",
      "American_alligator  :  9.193148463964462\n",
      "frilled_lizard  :  2.0565709099173546\n"
     ]
    }
   ],
   "source": [
    "from imageai.Classification import ImageClassification\n",
    "import os\n",
    "\n",
    "execution_path = os.getcwd()\n",
    "\n",
    "prediction = ImageClassification()\n",
    "prediction.setModelTypeAsDenseNet121()\n",
    "prediction.setModelPath(os.path.join(execution_path, \"DenseNet-BC-121-32.h5\"))\n",
    "prediction.loadModel()\n",
    "\n",
    "predictions, probabilities = prediction.classifyImage(os.path.join(execution_path, test_image), result_count=5 )\n",
    "for eachPrediction, eachProbability in zip(predictions, probabilities):\n",
    "    print(eachPrediction , \" : \" , eachProbability)"
   ]
  },
  {
   "cell_type": "markdown",
   "metadata": {},
   "source": [
    "### Source: [https://github.com/OlafenwaMoses/ImageAI]"
   ]
  }
 ],
 "metadata": {
  "kernelspec": {
   "display_name": "Python 3.9.12 ('base')",
   "language": "python",
   "name": "python3"
  },
  "language_info": {
   "codemirror_mode": {
    "name": "ipython",
    "version": 3
   },
   "file_extension": ".py",
   "mimetype": "text/x-python",
   "name": "python",
   "nbconvert_exporter": "python",
   "pygments_lexer": "ipython3",
   "version": "3.9.12"
  },
  "vscode": {
   "interpreter": {
    "hash": "c141bd6cd578391ff42cd5f7f41bc8942b5b9e3231650a3ac8e971bea2319409"
   }
  }
 },
 "nbformat": 4,
 "nbformat_minor": 2
}
