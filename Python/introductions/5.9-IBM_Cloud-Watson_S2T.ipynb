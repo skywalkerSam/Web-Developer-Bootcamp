{
 "cells": [
  {
   "attachments": {},
   "cell_type": "markdown",
   "metadata": {},
   "source": [
    "# IBM Watson Speech to Text API (d0)"
   ]
  },
  {
   "cell_type": "code",
   "execution_count": 46,
   "metadata": {},
   "outputs": [
    {
     "name": "stdout",
     "output_type": "stream",
     "text": [
      "Requirement already satisfied: ibm_watson in c:\\users\\samsk\\anaconda3\\lib\\site-packages (7.0.0)\n",
      "Requirement already satisfied: wget in c:\\users\\samsk\\anaconda3\\lib\\site-packages (3.2)\n",
      "Requirement already satisfied: requests<3.0,>=2.0 in c:\\users\\samsk\\anaconda3\\lib\\site-packages (from ibm_watson) (2.31.0)\n",
      "Requirement already satisfied: python-dateutil>=2.5.3 in c:\\users\\samsk\\anaconda3\\lib\\site-packages (from ibm_watson) (2.8.2)\n",
      "Requirement already satisfied: websocket-client==1.1.0 in c:\\users\\samsk\\anaconda3\\lib\\site-packages (from ibm_watson) (1.1.0)\n",
      "Requirement already satisfied: ibm-cloud-sdk-core==3.*,>=3.3.6 in c:\\users\\samsk\\anaconda3\\lib\\site-packages (from ibm_watson) (3.16.7)\n",
      "Requirement already satisfied: urllib3<2.0.0,>=1.26.0 in c:\\users\\samsk\\anaconda3\\lib\\site-packages (from ibm-cloud-sdk-core==3.*,>=3.3.6->ibm_watson) (1.26.14)\n",
      "Requirement already satisfied: PyJWT<3.0.0,>=2.4.0 in c:\\users\\samsk\\anaconda3\\lib\\site-packages (from ibm-cloud-sdk-core==3.*,>=3.3.6->ibm_watson) (2.4.0)\n",
      "Requirement already satisfied: six>=1.5 in c:\\users\\samsk\\anaconda3\\lib\\site-packages (from python-dateutil>=2.5.3->ibm_watson) (1.16.0)\n",
      "Requirement already satisfied: charset-normalizer<4,>=2 in c:\\users\\samsk\\anaconda3\\lib\\site-packages (from requests<3.0,>=2.0->ibm_watson) (2.0.4)\n",
      "Requirement already satisfied: idna<4,>=2.5 in c:\\users\\samsk\\anaconda3\\lib\\site-packages (from requests<3.0,>=2.0->ibm_watson) (3.4)\n",
      "Requirement already satisfied: certifi>=2017.4.17 in c:\\users\\samsk\\anaconda3\\lib\\site-packages (from requests<3.0,>=2.0->ibm_watson) (2022.12.7)\n"
     ]
    }
   ],
   "source": [
    "!pip install ibm_watson wget\n"
   ]
  },
  {
   "cell_type": "code",
   "execution_count": 48,
   "metadata": {},
   "outputs": [],
   "source": [
    "api_key = 'API KEY'\n",
    "url = 'URL'\n",
    "audio_file_path = './data/IBM-Watson-S2T.mp3'\n",
    "\n",
    "\n",
    "from os.path import join, dirname\n",
    "import json\n",
    "from ibm_watson import SpeechToTextV1\n",
    "from ibm_cloud_sdk_core.authenticators import IAMAuthenticator\n",
    "\n",
    "authenticator = IAMAuthenticator(api_key)   \n",
    "speech_to_text = SpeechToTextV1(\n",
    "    authenticator=authenticator\n",
    ")\n",
    "\n",
    "speech_to_text.set_service_url(url)   \n",
    "\n",
    "with open(join(dirname('__file__'), './.', audio_file_path),\n",
    "               'rb') as audio_file:\n",
    "    speech_recognition_results = speech_to_text.recognize(\n",
    "        audio=audio_file,\n",
    "        content_type='audio/mp3',\n",
    "        word_alternatives_threshold=0.9,\n",
    "        keywords=['colorado', 'tornado', 'tornadoes'],\n",
    "        keywords_threshold=0.5\n",
    "    ).get_result()\n",
    "\n",
    "\n",
    "s2t_response_view = json.dumps(speech_recognition_results, indent=2)\n",
    "s2t_response_str =  speech_recognition_results['results'][0]['alternatives'][0]['transcript']\n"
   ]
  },
  {
   "cell_type": "code",
   "execution_count": 49,
   "metadata": {},
   "outputs": [
    {
     "name": "stdout",
     "output_type": "stream",
     "text": [
      "this is a test file for IBM Watson speech to text API \n"
     ]
    }
   ],
   "source": [
    "print(s2t_response_str)\n"
   ]
  },
  {
   "attachments": {},
   "cell_type": "markdown",
   "metadata": {},
   "source": [
    "# IBM Cloud Language Translator API (s3)"
   ]
  },
  {
   "cell_type": "code",
   "execution_count": 50,
   "metadata": {},
   "outputs": [],
   "source": [
    "api_key = 'API KEY'\n",
    "url = 'URL'\n",
    "\n",
    "\n",
    "import json\n",
    "from ibm_watson import LanguageTranslatorV3\n",
    "from ibm_cloud_sdk_core.authenticators import IAMAuthenticator\n",
    "\n",
    "authenticator = IAMAuthenticator(api_key)\n",
    "language_translator = LanguageTranslatorV3(\n",
    "    version='2018-05-01',\n",
    "    authenticator=authenticator\n",
    ")\n",
    "\n",
    "language_translator.set_service_url(url)\n",
    "\n",
    "translation = language_translator.translate(\n",
    "    text = s2t_response_str,     # response from above S2T API\n",
    "    model_id='en-es').get_result()\n",
    "\n",
    "translation_response_view = json.dumps(translation, indent=2, ensure_ascii=False)\n",
    "\n"
   ]
  },
  {
   "cell_type": "code",
   "execution_count": 51,
   "metadata": {},
   "outputs": [
    {
     "name": "stdout",
     "output_type": "stream",
     "text": [
      "Este es un archivo de prueba para la API de texto de IBM Watson \n"
     ]
    }
   ],
   "source": [
    "translation_response_str = translation['translations'][0]['translation']\n",
    "print(translation_response_str)\n"
   ]
  },
  {
   "cell_type": "code",
   "execution_count": 59,
   "metadata": {},
   "outputs": [
    {
     "name": "stdout",
     "output_type": "stream",
     "text": [
      "MODE: en-es\n",
      "\n",
      "SPEECH TO TEXT: this is a test file for IBM Watson speech to text API \n",
      "TRANSLATION: Este es un archivo de prueba para la API de texto de IBM Watson \n"
     ]
    }
   ],
   "source": [
    "print(f'MODEL: en-es\\n\\nSPEECH TO TEXT: {s2t_response_str}\\nTRANSLATION: {translation_response_str}')\n"
   ]
  },
  {
   "cell_type": "code",
   "execution_count": null,
   "metadata": {},
   "outputs": [],
   "source": []
  }
 ],
 "metadata": {
  "kernelspec": {
   "display_name": "base",
   "language": "python",
   "name": "python3"
  },
  "language_info": {
   "codemirror_mode": {
    "name": "ipython",
    "version": 3
   },
   "file_extension": ".py",
   "mimetype": "text/x-python",
   "name": "python",
   "nbconvert_exporter": "python",
   "pygments_lexer": "ipython3",
   "version": "3.10.9"
  },
  "orig_nbformat": 4
 },
 "nbformat": 4,
 "nbformat_minor": 2
}
