{
 "cells": [
  {
   "cell_type": "markdown",
   "metadata": {},
   "source": [
    "# What makes a good code?\n",
    "\n",
    "- Readable\n",
    "\n",
    "- Scalable"
   ]
  },
  {
   "cell_type": "markdown",
   "metadata": {},
   "source": [
    "## Exercise: Find Nemo"
   ]
  },
  {
   "cell_type": "code",
   "execution_count": 25,
   "metadata": {},
   "outputs": [
    {
     "data": {
      "application/javascript": "\nconst some_array = ['Find', 'Nemo', 'or', 'not', 'i', \"don't\", 'care']\n\nfunction findNemo(array){\n    for ( let i = 0 ; i < array.length ; i++ ){\n        if (array[i] === \"Nemo\"){\n            // alert(\"Found Nemo...!\")\n            return element.text(\"Found Nemo...!\")\n            }\n        }\n}\n\nfindNemo(some_array)\n",
      "text/plain": [
       "<IPython.core.display.Javascript object>"
      ]
     },
     "metadata": {},
     "output_type": "display_data"
    }
   ],
   "source": [
    "%%js\n",
    "\n",
    "const some_array = ['Find', 'Nemo', 'or', 'not', 'i', \"don't\", 'care']\n",
    "\n",
    "function findNemo(array){\n",
    "    for ( let i = 0 ; i < array.length ; i++ ){\n",
    "        if (array[i] === \"Nemo\"){\n",
    "            // alert(\"Found Nemo...!\")\n",
    "            return element.text(\"Found Nemo...!\")\n",
    "            }\n",
    "    }\n",
    "}\n",
    "\n",
    "findNemo(some_array)\n"
   ]
  },
  {
   "cell_type": "markdown",
   "metadata": {},
   "source": [
    "`element.text` is just how we're doing the console.log() here..."
   ]
  },
  {
   "cell_type": "markdown",
   "metadata": {},
   "source": [
    "### Let's measure the performance of this function"
   ]
  },
  {
   "cell_type": "code",
   "execution_count": 30,
   "metadata": {},
   "outputs": [
    {
     "data": {
      "application/javascript": "\nconst some_array = ['Find', 'Nemo', 'or', 'not', 'i', \"don't\", 'care']\n\nfunction findNemo(array){\n    let t0 = performance.now()\n    for ( let i = 0 ; i < array.length ; i++ ){\n        if (array[i] === \"Nemo\"){\n            // alert(\"Found Nemo...!\")\n            element.text(\"Found Nemo...!\")\n            }\n        }\n    let t1 = performance.now()\n    element.text(\"Time: \" + (t1 - t0 + \" ms\"))\n}\n\nfindNemo(some_array)\n",
      "text/plain": [
       "<IPython.core.display.Javascript object>"
      ]
     },
     "metadata": {},
     "output_type": "display_data"
    }
   ],
   "source": [
    "%%js\n",
    "\n",
    "const some_array = ['Find', 'Nemo', 'or', 'not', 'i', \"don't\", 'care']\n",
    "\n",
    "function findNemo(array){\n",
    "    let t0 = performance.now()\n",
    "    for ( let i = 0 ; i < array.length ; i++ ){\n",
    "        if (array[i] === \"Nemo\"){\n",
    "            // alert(\"Found Nemo...!\")\n",
    "            element.text(\"Found Nemo...!\")\n",
    "            }\n",
    "    }\n",
    "    let t1 = performance.now()\n",
    "    element.text(\"Time: \" + (t1 - t0 + \" ms\"))\n",
    "}\n",
    "\n",
    "findNemo(some_array)\n"
   ]
  },
  {
   "cell_type": "markdown",
   "metadata": {},
   "source": [
    "### Let's make a custom large array filled with `Nemo`, and see the performance"
   ]
  },
  {
   "cell_type": "code",
   "execution_count": 39,
   "metadata": {},
   "outputs": [
    {
     "data": {
      "application/javascript": "\nconst large_array = new Array(1000000).fill('Nemo')\n\nfunction findNemoAgain(array){\n    let t0 = performance.now()\n    for ( let i = 0 ; i < array.length ; i++ ){\n        if (array[i] === \"Nemo\"){\n            element.text(\"Found Nemo, Again...!\")\n        }\n    }\n    let t1 = performance.now()\n    element.text(\"Time: \" + (t1 - t0) + ' ms')\n}\n\nfindNemoAgain(large_array)\n",
      "text/plain": [
       "<IPython.core.display.Javascript object>"
      ]
     },
     "metadata": {},
     "output_type": "display_data"
    }
   ],
   "source": [
    "%%js\n",
    "\n",
    "const large_array = new Array(1000000).fill('Nemo')\n",
    "\n",
    "function findNemoAgain(array){\n",
    "    let t0 = performance.now()\n",
    "    for ( let i = 0 ; i < array.length ; i++ ){\n",
    "        if (array[i] === \"Nemo\"){\n",
    "            element.text(\"Found Nemo, Again...!\")    # It not logging, because we aren't returning it... lol ;)\n",
    "        }\n",
    "    }\n",
    "    let t1 = performance.now()\n",
    "    element.text(\"Time: \" + (t1 - t0) + ' ms')\n",
    "}\n",
    "\n",
    "findNemoAgain(large_array)"
   ]
  },
  {
   "cell_type": "markdown",
   "metadata": {},
   "source": [
    "Time is in milliseconds, because these are like child's play for my Ryzen 9 5900 HX... lol ;)\n",
    "\n",
    "But you get the point, more the number of operations, the more time it takes to complete the task..."
   ]
  },
  {
   "cell_type": "code",
   "execution_count": null,
   "metadata": {},
   "outputs": [],
   "source": []
  }
 ],
 "metadata": {
  "kernelspec": {
   "display_name": "Python 3",
   "language": "python",
   "name": "python3"
  },
  "language_info": {
   "codemirror_mode": {
    "name": "ipython",
    "version": 3
   },
   "file_extension": ".py",
   "mimetype": "text/x-python",
   "name": "python",
   "nbconvert_exporter": "python",
   "pygments_lexer": "ipython3",
   "version": "3.10.12"
  }
 },
 "nbformat": 4,
 "nbformat_minor": 2
}
